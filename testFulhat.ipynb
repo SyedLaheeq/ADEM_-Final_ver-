{
 "cells": [
  {
   "cell_type": "code",
   "execution_count": 4,
   "metadata": {},
   "outputs": [
    {
     "data": {
      "text/plain": [
       "{'message': 'Successfully changed my LEDs', 'success': True}"
      ]
     },
     "execution_count": 4,
     "metadata": {},
     "output_type": "execute_result"
    }
   ],
   "source": [
    "from furhat_remote_api import FurhatRemoteAPI\n",
    "\n",
    "# Create an instance of the FurhatRemoteAPI class, providing the address of the robot or the SDK running the virtual robot\n",
    "furhat = FurhatRemoteAPI(\"localhost\")\n",
    "\n",
    "# Get the voices on the robot\n",
    "voices = furhat.get_voices()\n",
    "\n",
    "# Set the voice of the robot\n",
    "furhat.set_voice(name='Matthew')\n",
    "\n",
    "# Say \"Hi there!\"\n",
    "furhat.say(text=\"Hi there!\")\n",
    "\n",
    "# Play an audio file (with lipsync automatically added) \n",
    "furhat.say(url=\"https://www2.cs.uic.edu/~i101/SoundFiles/gettysburg10.wav\", lipsync=True)\n",
    "\n",
    "# Listen to user speech and return ASR result\n",
    "result = furhat.listen()\n",
    "\n",
    "# Perform a named gesture\n",
    "furhat.gesture(name=\"BrowRaise\")\n",
    "\n",
    "# Perform a custom gesture\n",
    "furhat.gesture(body={\n",
    "    \"frames\": [\n",
    "        {\n",
    "            \"time\": [\n",
    "                0.33\n",
    "            ],\n",
    "            \"params\": {\n",
    "                \"BLINK_LEFT\": 1.0\n",
    "            }\n",
    "        },\n",
    "        {\n",
    "            \"time\": [\n",
    "                0.67\n",
    "            ],\n",
    "            \"params\": {\n",
    "                \"reset\": True\n",
    "            }\n",
    "        }\n",
    "    ],\n",
    "    \"class\": \"furhatos.gestures.Gesture\"\n",
    "    })\n",
    "\n",
    "# Get the users detected by the robot \n",
    "users = furhat.get_users()\n",
    "\n",
    "# Attend the user closest to the robot\n",
    "furhat.attend(user=\"CLOSEST\")\n",
    "\n",
    "# Attend a user with a specific id\n",
    "furhat.attend(userid=\"virtual-user-1\")\n",
    "\n",
    "# Attend a specific location (x,y,z)\n",
    "furhat.attend(location=\"0.0,0.2,1.0\")\n",
    "\n",
    "# Set the LED lights\n",
    "furhat.set_led(red=200, green=50, blue=50)"
   ]
  }
 ],
 "metadata": {
  "kernelspec": {
   "display_name": "newEnv",
   "language": "python",
   "name": "python3"
  },
  "language_info": {
   "codemirror_mode": {
    "name": "ipython",
    "version": 3
   },
   "file_extension": ".py",
   "mimetype": "text/x-python",
   "name": "python",
   "nbconvert_exporter": "python",
   "pygments_lexer": "ipython3",
   "version": "3.12.5"
  }
 },
 "nbformat": 4,
 "nbformat_minor": 2
}
